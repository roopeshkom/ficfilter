{
 "cells": [
  {
   "cell_type": "code",
   "execution_count": 1,
   "metadata": {},
   "outputs": [
    {
     "name": "stdout",
     "output_type": "stream",
     "text": [
      "importing Jupyter notebook from fanfic_functions.ipynb\n"
     ]
    }
   ],
   "source": [
    "import import_ipynb\n",
    "from fanfic_functions import get_fanfic_url, fanfic_gen\n",
    "import pandas as pd"
   ]
  },
  {
   "cell_type": "code",
   "execution_count": 2,
   "metadata": {},
   "outputs": [],
   "source": [
    "fanfic_url = get_fanfic_url(genre='book', series='Harry-Potter', sort=4, rating=10)\n",
    "fanfics = fanfic_gen(fanfic_url, pages_wanted=1)"
   ]
  },
  {
   "cell_type": "code",
   "execution_count": 4,
   "metadata": {},
   "outputs": [
    {
     "name": "stdout",
     "output_type": "stream",
     "text": [
      "Isolation\n",
      "/s/6291747/1/Isolation\n",
      "Bex-chan\n",
      "Rated: M\n",
      "English\n",
      "Romance/Angst\n",
      "Chapters: 48\n",
      "Words: 278,881\n",
      "Reviews: 15625\n",
      "Favs: 24,642\n",
      "Follows: 14,542\n",
      "Updated: 4/5/2014\n",
      "Published: 9/2/2010\n",
      "Hermione G., Draco M.\n",
      "Complete\n"
     ]
    }
   ],
   "source": [
    "for fanfic in fanfics:\n",
    "    for field in fanfic:\n",
    "        print(field)\n",
    "    print()"
   ]
  }
 ],
 "metadata": {
  "kernelspec": {
   "display_name": "Python 3",
   "language": "python",
   "name": "python3"
  },
  "language_info": {
   "codemirror_mode": {
    "name": "ipython",
    "version": 3
   },
   "file_extension": ".py",
   "mimetype": "text/x-python",
   "name": "python",
   "nbconvert_exporter": "python",
   "pygments_lexer": "ipython3",
   "version": "3.6.5"
  }
 },
 "nbformat": 4,
 "nbformat_minor": 2
}
