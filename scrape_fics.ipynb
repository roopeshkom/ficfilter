{
 "cells": [
  {
   "cell_type": "code",
   "execution_count": 1,
   "metadata": {},
   "outputs": [],
   "source": [
    "from bs4 import BeautifulSoup\n",
    "import requests"
   ]
  },
  {
   "cell_type": "code",
   "execution_count": 9,
   "metadata": {},
   "outputs": [],
   "source": [
    "upper_page_num_str = \n",
    "\n",
    "\n",
    "# Creates the url we are scraping from\n",
    "page_base = 'https://www.fanfiction.net/{}/{}/?&srt=1&r=10&p={}'\n",
    "page_genre = 'book'\n",
    "page_series = 'Harry-Potter' \n",
    "lower_page_number = 1\n",
    "\n",
    "page_url = page_base.format(page_genre, page_series, lower_page_number)"
   ]
  },
  {
   "cell_type": "code",
   "execution_count": 10,
   "metadata": {},
   "outputs": [],
   "source": [
    "# Scrapes and prints the contexts of url\n",
    "parser = 'lxml'\n",
    "page_text = requests.get(page_url).text\n",
    "soup = BeautifulSoup(page_text, parser)\n"
   ]
  },
  {
   "cell_type": "code",
   "execution_count": 11,
   "metadata": {},
   "outputs": [
    {
     "name": "stdout",
     "output_type": "stream",
     "text": [
      "(0, 'Strike a Pose')\n",
      "(1, 'Riches and Rags')\n",
      "(2, 'Jina Dare and the Emerald Tablet')\n",
      "(3, 'Painting It, Black')\n",
      "(4, 'Nunca le hagas cosquillas a un dragón dormido')\n",
      "(5, 'Abigail Potter is the Slytherin Princess')\n",
      "(6, 'Thicker Than Water')\n",
      "(7, 'Desejos Reprimidos')\n",
      "(8, 'לבנות מחדש')\n",
      "(9, 'She was cold like ice cream')\n",
      "(10, 'Reviving the Order')\n",
      "(11, 'Unbreakable Bonds')\n",
      "(12, '¡Harry James Riddle Potter!')\n",
      "(13, 'Through the Looking Glass')\n",
      "(14, 'Normalcy')\n",
      "(15, 'Slytherin Through and Through')\n",
      "(16, 'The Curse')\n",
      "(17, 'A Sword, A Destiny, A Will Unbroken')\n",
      "(18, 'Harry Potter and the Sexual Seventh Year')\n",
      "(19, 'Annals of Arithmancy')\n",
      "(20, 'The Futile Facade')\n",
      "(21, 'Harry Riddley Snape')\n",
      "(22, 'The Love of a Family')\n",
      "(23, 'A Sign of the Times')\n",
      "(24, 'Harry Potter: Redemption')\n"
     ]
    }
   ],
   "source": [
    "titles = [s.text for s in soup.find_all(class_ = 'stitle')]\n",
    "print(*enumerate(titles), sep='\\n')"
   ]
  }
 ],
 "metadata": {
  "kernelspec": {
   "display_name": "Python 3",
   "language": "python",
   "name": "python3"
  },
  "language_info": {
   "codemirror_mode": {
    "name": "ipython",
    "version": 3
   },
   "file_extension": ".py",
   "mimetype": "text/x-python",
   "name": "python",
   "nbconvert_exporter": "python",
   "pygments_lexer": "ipython3",
   "version": "3.7.0"
  }
 },
 "nbformat": 4,
 "nbformat_minor": 2
}
