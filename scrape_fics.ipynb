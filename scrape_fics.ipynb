{
 "cells": [
  {
   "cell_type": "code",
   "execution_count": 1,
   "metadata": {},
   "outputs": [],
   "source": [
    "from bs4 import BeautifulSoup\n",
    "import requests\n",
    "import re\n",
    "import time"
   ]
  },
  {
   "cell_type": "code",
   "execution_count": 2,
   "metadata": {},
   "outputs": [],
   "source": [
    "# Creates the url we are scraping from (Fics are sorted by favorites)\n",
    "parser = 'lxml'\n",
    "page_base = 'https://www.fanfiction.net/{}/{}/{}'\n",
    "page_genre = 'book'\n",
    "page_series = 'Harry-Potter'\n",
    "page_flags = '?&srt=4&r=10&p='"
   ]
  },
  {
   "cell_type": "code",
   "execution_count": 3,
   "metadata": {},
   "outputs": [
    {
     "name": "stdout",
     "output_type": "stream",
     "text": [
      "30270\n"
     ]
    }
   ],
   "source": [
    "# Scrapes and prints the contexts of url\n",
    "page_url = page_base.format(page_genre, page_series, page_flags)\n",
    "page_text = requests.get(page_url).text\n",
    "soup = BeautifulSoup(page_text, parser)\n",
    "pages = int(soup.find('a', text=re.compile('Last'))['href'].split('=')[-1])\n",
    "print(pages)"
   ]
  },
  {
   "cell_type": "code",
   "execution_count": 6,
   "metadata": {
    "scrolled": true
   },
   "outputs": [
    {
     "name": "stdout",
     "output_type": "stream",
     "text": [
      "Scraping page 1/10 of Harry-Potter...\n",
      "Scraping page 2/10 of Harry-Potter...\n",
      "Scraping page 3/10 of Harry-Potter...\n",
      "Scraping page 4/10 of Harry-Potter...\n",
      "Scraping page 5/10 of Harry-Potter...\n",
      "Scraping page 6/10 of Harry-Potter...\n",
      "Scraping page 7/10 of Harry-Potter...\n",
      "Scraping page 8/10 of Harry-Potter...\n",
      "Scraping page 9/10 of Harry-Potter...\n",
      "Scraping page 10/10 of Harry-Potter...\n",
      "=========================\n",
      "Scraped 250 fics in 5.47097110748291 seconds\n",
      "Estimated time to fully scrape Harry-Potter: 16560.62954235077 seconds\n"
     ]
    }
   ],
   "source": [
    "titles, links, authors, statistics = [], [], [], []\n",
    "test_pages = 10\n",
    "start_time = time.time()\n",
    "\n",
    "for page in range(1, test_pages + 1):\n",
    "    print(f'Scraping page {page}/{test_pages} of {page_series}...')\n",
    "    page_text = requests.get(page_url+str(page)).text\n",
    "    soup = BeautifulSoup(page_text, parser)\n",
    "    \n",
    "    stitles = soup.find_all(class_ = 'stitle')\n",
    "    titles += [s.text for s in stitles]\n",
    "    links += [s['href'] for s in stitles]\n",
    "    authors += [s.text for s in soup.find_all('a', href=re.compile(r'/u/'))]\n",
    "    statistics += [s.text for s in soup.find_all(class_ = 'z-padtop2 xgray')]\n",
    "\n",
    "# print(*[f'{i+1}. {title} by {author} at {link}\\n{stat}' for i, (title, link, author, stat)\n",
    "#         in enumerate(zip(titles, links, authors, statistics))], sep='\\n')\n",
    "end_time = time.time() - start_time\n",
    "print('='*25)\n",
    "print(f'Scraped {test_pages*25} fics in {end_time} seconds')\n",
    "print(f'Estimated time to fully scrape {page_series}: {pages*(end_time/test_pages)} seconds')"
   ]
  }
 ],
 "metadata": {
  "kernelspec": {
   "display_name": "Python 3",
   "language": "python",
   "name": "python3"
  },
  "language_info": {
   "codemirror_mode": {
    "name": "ipython",
    "version": 3
   },
   "file_extension": ".py",
   "mimetype": "text/x-python",
   "name": "python",
   "nbconvert_exporter": "python",
   "pygments_lexer": "ipython3",
   "version": "3.6.5"
  }
 },
 "nbformat": 4,
 "nbformat_minor": 2
}
