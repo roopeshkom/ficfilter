{
 "cells": [
  {
   "cell_type": "code",
   "execution_count": 1,
   "metadata": {},
   "outputs": [
    {
     "name": "stdout",
     "output_type": "stream",
     "text": [
      "importing Jupyter notebook from story_functions.ipynb\n"
     ]
    }
   ],
   "source": [
    "import import_ipynb\n",
    "from story_functions import get_story_url, story_gen\n",
    "import pandas as pd"
   ]
  },
  {
   "cell_type": "code",
   "execution_count": 2,
   "metadata": {},
   "outputs": [],
   "source": [
    "fandom = 'cartoon/Avatar-Last-Airbender'\n",
    "genre, series = fandom.split('/')\n",
    "\n",
    "stories = story_gen(\n",
    "    get_story_url(genre=genre, series=series), 40\n",
    ")"
   ]
  },
  {
   "cell_type": "code",
   "execution_count": 3,
   "metadata": {},
   "outputs": [
    {
     "name": "stdout",
     "output_type": "stream",
     "text": [
      "Starting to scrape Avatar-Last-Airbender.\n",
      "Scraping page 1/40...\n",
      "Scraping page 2/40...\n",
      "Scraping page 3/40...\n",
      "Scraping page 4/40...\n",
      "Scraping page 5/40...\n",
      "Scraping page 6/40...\n",
      "Scraping page 7/40...\n",
      "Scraping page 8/40...\n",
      "Scraping page 9/40...\n",
      "Scraping page 10/40...\n",
      "Scraping page 11/40...\n",
      "Scraping page 12/40...\n",
      "Scraping page 13/40...\n",
      "Scraping page 14/40...\n",
      "Scraping page 15/40...\n",
      "Scraping page 16/40...\n",
      "Scraping page 17/40...\n",
      "Scraping page 18/40...\n",
      "Scraping page 19/40...\n",
      "Scraping page 20/40...\n",
      "Scraping page 21/40...\n",
      "Scraping page 22/40...\n",
      "Scraping page 23/40...\n",
      "Scraping page 24/40...\n",
      "Scraping page 25/40...\n",
      "Scraping page 26/40...\n",
      "Scraping page 27/40...\n",
      "Scraping page 28/40...\n",
      "Scraping page 29/40...\n",
      "Scraping page 30/40...\n",
      "Scraping page 31/40...\n",
      "Scraping page 32/40...\n",
      "Scraping page 33/40...\n",
      "Scraping page 34/40...\n",
      "Scraping page 35/40...\n",
      "Scraping page 36/40...\n",
      "Scraping page 37/40...\n",
      "Scraping page 38/40...\n",
      "Scraping page 39/40...\n",
      "Scraping page 40/40...\n",
      "Finished scraping, data saved to Avatar-Last-Airbender.csv\n"
     ]
    }
   ],
   "source": [
    "print(f'Starting to scrape {series}.')\n",
    "df = pd.DataFrame(list(stories))\n",
    "df.to_csv(f'{series}.csv', index=False, header=True)\n",
    "print(f'Finished scraping, data saved to {series}.csv')"
   ]
  }
 ],
 "metadata": {
  "kernelspec": {
   "display_name": "Python 3",
   "language": "python",
   "name": "python3"
  },
  "language_info": {
   "codemirror_mode": {
    "name": "ipython",
    "version": 3
   },
   "file_extension": ".py",
   "mimetype": "text/x-python",
   "name": "python",
   "nbconvert_exporter": "python",
   "pygments_lexer": "ipython3",
   "version": "3.7.2"
  }
 },
 "nbformat": 4,
 "nbformat_minor": 2
}
